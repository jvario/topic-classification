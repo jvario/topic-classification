{
 "cells": [
  {
   "cell_type": "code",
   "execution_count": 13,
   "id": "initial_id",
   "metadata": {
    "collapsed": true,
    "ExecuteTime": {
     "end_time": "2024-03-26T11:46:24.864023Z",
     "start_time": "2024-03-26T11:46:24.285039Z"
    }
   },
   "outputs": [
    {
     "name": "stdout",
     "output_type": "stream",
     "text": [
      "  (0, 1433)\t0.33482711194677267\n",
      "  (0, 970)\t0.33482711194677267\n",
      "  (0, 509)\t0.33482711194677267\n",
      "  (0, 5852)\t0.3181294018415408\n",
      "  (0, 600)\t0.29709277499153475\n",
      "  (0, 2665)\t0.13358972114070944\n",
      "  (0, 6592)\t0.29709277499153475\n",
      "  (0, 5179)\t0.2895844778769335\n",
      "  (0, 5886)\t0.33482711194677267\n",
      "  (0, 3611)\t0.2895844778769335\n",
      "  (0, 3288)\t0.29709277499153475\n",
      "  (1, 7037)\t0.270996539088949\n",
      "  (1, 5982)\t0.39072275764596864\n",
      "  (1, 1873)\t0.39072275764596864\n",
      "  (1, 7917)\t0.41123068712662325\n",
      "  (1, 7969)\t0.37617215011720473\n",
      "  (1, 1979)\t0.37617215011720473\n",
      "  (1, 7806)\t0.41123068712662325\n",
      "  (2, 2734)\t0.44300994647648434\n",
      "  (2, 7157)\t0.44300994647648434\n",
      "  (2, 3705)\t0.40524214098364164\n",
      "  (2, 3655)\t0.38314939103579815\n",
      "  (2, 4430)\t0.3453815855429554\n",
      "  (2, 1916)\t0.4209171965286409\n",
      "  (3, 5520)\t0.278681666941605\n",
      "  :\t:\n",
      "  (2493, 6126)\t0.4472135954999579\n",
      "  (2494, 1252)\t0.5232053777216709\n",
      "  (2494, 6365)\t0.4786006931186125\n",
      "  (2494, 999)\t0.4642411919812982\n",
      "  (2494, 7135)\t0.3979841968544478\n",
      "  (2494, 3704)\t0.3511213522294121\n",
      "  (2495, 2794)\t0.49110764124950507\n",
      "  (2495, 6248)\t0.49110764124950507\n",
      "  (2495, 1328)\t0.43576080536022116\n",
      "  (2495, 3552)\t0.39389254028336773\n",
      "  (2495, 3142)\t0.4154368262848416\n",
      "  (2496, 1145)\t0.40104676240624554\n",
      "  (2496, 4876)\t0.40104676240624554\n",
      "  (2496, 5767)\t0.40104676240624554\n",
      "  (2496, 2831)\t0.3810467016633573\n",
      "  (2496, 6502)\t0.3169579845699143\n",
      "  (2496, 3012)\t0.3558496050450752\n",
      "  (2496, 6165)\t0.3810467016633573\n",
      "  (2497, 2881)\t0.4364011464367561\n",
      "  (2497, 7038)\t0.4364011464367561\n",
      "  (2497, 1833)\t0.4364011464367561\n",
      "  (2497, 562)\t0.4146379750184565\n",
      "  (2497, 8067)\t0.34022920046805544\n",
      "  (2497, 1706)\t0.31846602904975574\n",
      "  (2497, 6889)\t0.1988993396891915\n"
     ]
    }
   ],
   "source": [
    "import ast\n",
    "import pickle\n",
    "import pandas as pd\n",
    "# Load the TF-IDF matrix from the file\n",
    "with open(\"fe_data/tfidf_X_title.pkl\", \"rb\") as f:\n",
    "    x_title = pickle.load(f)\n",
    "\n",
    "with open(\"fe_data/tfidf_X_content.pkl\", \"rb\") as f:\n",
    "    x_content = pickle.load(f)\n",
    "    \n",
    "\n",
    "print(x_title)\n"
   ]
  },
  {
   "cell_type": "code",
   "outputs": [],
   "source": [
    "import joblib\n",
    "\n",
    "loaded_content_vector = joblib.load('fe_data/tf-idf-vect-content-1.pkl') \n",
    "loaded_title_vector = joblib.load('fe_data/tf-idf-vect-title-1.pkl')\n",
    "\n",
    "clean_data_tokenized = pd.read_csv(\"data/merged_data_tokenized2.csv\")\n",
    "clean_data_tokenized = clean_data_tokenized[clean_data_tokenized['is_train'] == 0]\n",
    "x_content_test = loaded_content_vector.transform(clean_data_tokenized['content_tokenized'])\n",
    "x_title_test = loaded_title_vector.transform(clean_data_tokenized['title_tokenized'])"
   ],
   "metadata": {
    "collapsed": false,
    "ExecuteTime": {
     "end_time": "2024-03-26T11:46:32.992424Z",
     "start_time": "2024-03-26T11:46:26.032107Z"
    }
   },
   "id": "69a263e70f9f89d9",
   "execution_count": 14
  },
  {
   "cell_type": "code",
   "outputs": [],
   "source": [
    "from scipy.sparse import hstack\n",
    "\n",
    "\n",
    "df = pd.read_csv(\"data/merged_data_tokenized2.csv\")\n",
    "df_train = df[df['is_train'] == 1]\n",
    "\n",
    "df_test  =  df[df['is_train'] == 0]\n",
    "\n",
    "\n",
    "X_train = hstack([x_title, x_content])\n",
    "y_train = df_train['label']\n",
    "\n",
    "\n",
    "X_test = hstack([x_title_test, x_content_test])\n",
    "y_test = df_test['label']\n",
    "\n",
    "# X = hstack([x_title, x_content])\n",
    "# y = df['label']"
   ],
   "metadata": {
    "collapsed": false,
    "ExecuteTime": {
     "end_time": "2024-03-26T11:46:34.320221Z",
     "start_time": "2024-03-26T11:46:33.001367Z"
    }
   },
   "id": "4425a66324142975",
   "execution_count": 15
  },
  {
   "cell_type": "code",
   "outputs": [],
   "source": [
    "\n",
    "import numpy as np\n",
    "from sklearn.preprocessing import LabelBinarizer\n",
    "\n",
    "label_binarizer = LabelBinarizer()\n",
    "y_train = label_binarizer.fit_transform(y_train)\n",
    "y_classes = label_binarizer.classes_\n",
    "y_train = np.argmax(y_train, axis=1)\n",
    "\n",
    "label_binarizer = LabelBinarizer()\n",
    "y_test = label_binarizer.fit_transform(y_test)\n",
    "y_test = np.argmax(y_test, axis=1)\n",
    "\n",
    "# label_binarizer = LabelBinarizer()\n",
    "# y = label_binarizer.fit_transform(y)\n",
    "# y_classes = label_binarizer.classes_\n",
    "# y = np.argmax(y, axis=1)\n",
    "\n",
    "#X_train, X_test, y_train, y_test = train_test_split(X, y, test_size=0.2, random_state = 0)\n",
    "#X_train, X_valid, y_train, y_valid = train_test_split(X_train, y_train, test_size=0.25, random_state=0)\n",
    "\n"
   ],
   "metadata": {
    "collapsed": false,
    "ExecuteTime": {
     "end_time": "2024-03-26T11:46:34.398370Z",
     "start_time": "2024-03-26T11:46:34.321917Z"
    }
   },
   "id": "f98e9a9f425d4427",
   "execution_count": 16
  },
  {
   "cell_type": "markdown",
   "source": [
    "### Metrics\n",
    "- **Precision**: Precision is the ratio of true positive predictions to the total number of positive predictions made by the classifier. It measures the accuracy of positive predictions. A high precision indicates that the classifier has a low false positive rate.\n",
    "\n",
    "- **Recall**: Recall, also known as sensitivity or true positive rate, is the ratio of true positive predictions to the total number of actual positives in the dataset. It measures the ability of the classifier to correctly identify all positive instances. A high recall indicates that the classifier has a low false negative rate.\n",
    "\n",
    "- **F-score**: The F-score, or F1 score, is the harmonic mean of precision and recall. It provides a single score that balances both precision and recall. The F1 score reaches its best value at 1 and worst at 0.\n",
    "\n",
    "- **Support**: Support is the number of actual occurrences of each class in the specified dataset. It represents the number of true instances for each class in the dataset.\n",
    "\n",
    "- **Jaccard Score**: The Jaccard score, also known as the Jaccard similarity coefficient, measures the similarity between two sets by comparing their intersection with their union. In the context of multi-label classification, it calculates the similarity between the predicted labels and the true labels. It ranges from 0 to 1, where 1 indicates perfect overlap between the predicted and true labels."
   ],
   "metadata": {
    "collapsed": false
   },
   "id": "44f1c1821a9cdadd"
  },
  {
   "cell_type": "code",
   "outputs": [],
   "source": [
    "from sklearn.linear_model import SGDClassifier\n",
    "from sklearn.svm import LinearSVC\n",
    "from sklearn.metrics import accuracy_score, jaccard_score\n",
    "from sklearn.metrics import precision_recall_fscore_support as score\n",
    "\n",
    "\n",
    "    \n",
    "\n",
    "# Prints Accuracy, Hamming loss and Jaccard score:\n",
    "def evaluate_model(y_test, y_pred, model_name):\n",
    "    hamming = []\n",
    "    precision, recall, fscore, support = score(y_test, y_pred)\n",
    "    \n",
    "\n",
    "    # for i, (test, pred) in enumerate(zip(y_test.T, y_pred.T)):\n",
    "    #     hamming.append(hamming_loss(test, pred))\n",
    "    \n",
    "    acc = accuracy_score(y_test, y_pred)\n",
    "    jacc_sc = jaccard_score(y_test, y_pred, average='weighted')\n",
    "    \n",
    "    print(\"Accuracy: \", acc)\n",
    "    print(\"Classifier Used:\", str(model_name))\n",
    "    print(f'Jaccard Score: {jacc_sc:.4f}')\n",
    "    print(\"\\n\")\n",
    "    \n",
    "    metric_df = pd.DataFrame(data=[precision, recall, fscore,support],\n",
    "                         index=[\"Precision\", \"Recall\", \"F-1 score\",\"True Count\"],\n",
    "                         columns=y_classes)\n",
    "    metric_df.to_csv(\"models/models_results/\"+str(model_name)+\"_metrics_split_data.xlsx\")\n",
    "    \n",
    "    print(metric_df)\n",
    "\n",
    "\n"
   ],
   "metadata": {
    "collapsed": false,
    "ExecuteTime": {
     "end_time": "2024-03-26T11:47:04.469255Z",
     "start_time": "2024-03-26T11:47:04.443184Z"
    }
   },
   "id": "acefec5a304949ed",
   "execution_count": 19
  },
  {
   "cell_type": "code",
   "outputs": [
    {
     "name": "stderr",
     "output_type": "stream",
     "text": [
      "C:\\Users\\yvariozidis\\PycharmProjects\\Topic-classification\\.venv\\lib\\site-packages\\sklearn\\svm\\_classes.py:31: FutureWarning: The default value of `dual` will change from `True` to `'auto'` in 1.5. Set the value of `dual` explicitly to suppress the warning.\n",
      "  warnings.warn(\n"
     ]
    },
    {
     "name": "stdout",
     "output_type": "stream",
     "text": [
      "Accuracy:  0.6811797752808989\n",
      "Classifier Used: Linear SVM\n",
      "Jaccard Score: 0.5584\n",
      "\n",
      "\n",
      "            Astrology  Attractions  Automotive     Beauty  Business&Finance  \\\n",
      "Precision    1.000000     0.970588    0.947368   0.735294          0.588235   \n",
      "Recall       0.888889     0.634615    0.375000   0.925926          0.740741   \n",
      "F-1 score    0.941176     0.767442    0.537313   0.819672          0.655738   \n",
      "True Count  36.000000    52.000000   48.000000  27.000000         27.000000   \n",
      "\n",
      "              Culture  Education  Family&Relationships  Food&Drink  \\\n",
      "Precision    0.215517   0.960000              0.666667    1.000000   \n",
      "Recall       0.925926   0.888889              0.592593    0.775000   \n",
      "F-1 score    0.349650   0.923077              0.627451    0.873239   \n",
      "True Count  27.000000  27.000000             27.000000   40.000000   \n",
      "\n",
      "            Healthy Living  ...   Politics  Pop Culture  \\\n",
      "Precision         0.490196  ...   1.000000     1.000000   \n",
      "Recall            0.925926  ...   0.625000     0.342857   \n",
      "F-1 score         0.641026  ...   0.769231     0.510638   \n",
      "True Count       27.000000  ...  40.000000    35.000000   \n",
      "\n",
      "            Religion&Spirituality    Science  Sensitive Topics     Sports  \\\n",
      "Precision                1.000000   0.821429          0.372881   0.577778   \n",
      "Recall                   0.733333   0.851852          0.814815   0.962963   \n",
      "F-1 score                0.846154   0.836364          0.511628   0.722222   \n",
      "True Count              30.000000  27.000000         27.000000  27.000000   \n",
      "\n",
      "            Style&Fashion  Tech&Computing     Travel  Viral Articles  \n",
      "Precision        0.840000        0.862069   0.944444        0.833333  \n",
      "Recall           0.777778        0.925926   0.548387        0.089286  \n",
      "F-1 score        0.807692        0.892857   0.693878        0.161290  \n",
      "True Count      27.000000       27.000000  31.000000       56.000000  \n",
      "\n",
      "[4 rows x 21 columns]\n",
      "Accuracy:  0.6839887640449438\n",
      "Classifier Used: SGD\n",
      "Jaccard Score: 0.5594\n",
      "\n",
      "\n",
      "            Astrology  Attractions  Automotive     Beauty  Business&Finance  \\\n",
      "Precision    1.000000     0.971429    0.900000   0.727273          0.513514   \n",
      "Recall       0.861111     0.653846    0.375000   0.888889          0.703704   \n",
      "F-1 score    0.925373     0.781609    0.529412   0.800000          0.593750   \n",
      "True Count  36.000000    52.000000   48.000000  27.000000         27.000000   \n",
      "\n",
      "              Culture  Education  Family&Relationships  Food&Drink  \\\n",
      "Precision    0.231481   0.958333              0.592593    1.000000   \n",
      "Recall       0.925926   0.851852              0.592593    0.800000   \n",
      "F-1 score    0.370370   0.901961              0.592593    0.888889   \n",
      "True Count  27.000000  27.000000             27.000000   40.000000   \n",
      "\n",
      "            Healthy Living  ...   Politics  Pop Culture  \\\n",
      "Precision         0.510204  ...   0.961538     0.928571   \n",
      "Recall            0.925926  ...   0.625000     0.371429   \n",
      "F-1 score         0.657895  ...   0.757576     0.530612   \n",
      "True Count       27.000000  ...  40.000000    35.000000   \n",
      "\n",
      "            Religion&Spirituality    Science  Sensitive Topics     Sports  \\\n",
      "Precision                0.958333   0.758621          0.383333   0.684211   \n",
      "Recall                   0.766667   0.814815          0.851852   0.962963   \n",
      "F-1 score                0.851852   0.785714          0.528736   0.800000   \n",
      "True Count              30.000000  27.000000         27.000000  27.000000   \n",
      "\n",
      "            Style&Fashion  Tech&Computing     Travel  Viral Articles  \n",
      "Precision        0.880000        0.892857   0.850000        0.666667  \n",
      "Recall           0.814815        0.925926   0.548387        0.107143  \n",
      "F-1 score        0.846154        0.909091   0.666667        0.184615  \n",
      "True Count      27.000000       27.000000  31.000000       56.000000  \n",
      "\n",
      "[4 rows x 21 columns]\n"
     ]
    }
   ],
   "source": [
    "\n",
    "\n",
    "classifiers = {\n",
    "    \n",
    "    \"Linear SVM\": LinearSVC(),\n",
    "    \"SGD\": SGDClassifier(n_jobs=-1)}\n",
    "\n",
    "\n",
    "for name, clf in classifiers.items():\n",
    "    \n",
    "    clf.fit(X_train, y_train)\n",
    "    y_pred = clf.predict(X_test)\n",
    "    metric_df = evaluate_model(y_test, y_pred, name)\n",
    "    filename = 'models/' + name + '.sav'\n",
    "    joblib.dump(clf, filename)"
   ],
   "metadata": {
    "collapsed": false,
    "ExecuteTime": {
     "end_time": "2024-03-26T11:47:07.644664Z",
     "start_time": "2024-03-26T11:47:06.311205Z"
    }
   },
   "id": "c23d4967cb98af38",
   "execution_count": 20
  },
  {
   "cell_type": "markdown",
   "source": [
    "### Down break labels to sublabels - Clustering"
   ],
   "metadata": {
    "collapsed": false
   },
   "id": "5adf9a64447dcaa2"
  },
  {
   "cell_type": "code",
   "outputs": [
    {
     "name": "stdout",
     "output_type": "stream",
     "text": [
      "label           subcluster\n",
      "Astrology       0             29\n",
      "                1             48\n",
      "                2              4\n",
      "Attractions     0             13\n",
      "                1             12\n",
      "                              ..\n",
      "Travel          1             46\n",
      "                2             19\n",
      "Viral Articles  0              5\n",
      "                1             25\n",
      "                2             68\n",
      "Length: 63, dtype: int64\n"
     ]
    }
   ],
   "source": [
    "from sklearn.feature_extraction.text import TfidfVectorizer\n",
    "from sklearn.cluster import KMeans\n",
    "from sklearn.decomposition import PCA\n",
    "\n",
    "import pandas as pd\n",
    "clustered_data = pd.DataFrame()\n",
    "\n",
    "df = pd.read_csv(\"data/merged_data_tokenized2.csv\")\n",
    "tfidf_matrices = []\n",
    "tfidf_matrices_2d = []\n",
    "\n",
    "existing_labels = df['label'].unique()\n",
    "# Clustering within each existing label\n",
    "for label in existing_labels:\n",
    "    # Filter articles belonging to the current label\n",
    "    label_data = df[df['label'] == label].copy() \n",
    "    \n",
    "    label_data['text'] = label_data['title_tokenized'] + ' ' + label_data['content_tokenized']\n",
    "    text_data = label_data['text'].tolist()\n",
    "    \n",
    "    vectorizer = TfidfVectorizer()  # Adjust parameters as needed\n",
    "    tfidf_matrix = vectorizer.fit_transform(text_data)\n",
    "    \n",
    "    # Clustering (K-means)\n",
    "    num_clusters = 3  # Adjust number of clusters as needed for each label\n",
    "    kmeans = KMeans(n_clusters=num_clusters, random_state=42)\n",
    "    kmeans.fit(tfidf_matrix)\n",
    "\n",
    "    # Assign cluster labels to articles\n",
    "    cluster_labels = kmeans.labels_\n",
    "\n",
    "    # Add cluster labels and original labels to the dataset\n",
    "    label_data['subcluster'] = cluster_labels\n",
    "\n",
    "    # Append the clustered data to the overall dataframe\n",
    "    clustered_data = pd.concat([clustered_data, label_data])\n",
    "    \n",
    "\n",
    "# Display the distribution of articles across subclusters\n",
    "print(clustered_data.groupby(['label', 'subcluster']).size())"
   ],
   "metadata": {
    "collapsed": false,
    "ExecuteTime": {
     "end_time": "2024-03-25T18:22:44.839420Z",
     "start_time": "2024-03-25T18:22:41.609270Z"
    }
   },
   "id": "a4e74e28e397d115",
   "execution_count": 12
  }
 ],
 "metadata": {
  "kernelspec": {
   "display_name": "Python 3",
   "language": "python",
   "name": "python3"
  },
  "language_info": {
   "codemirror_mode": {
    "name": "ipython",
    "version": 2
   },
   "file_extension": ".py",
   "mimetype": "text/x-python",
   "name": "python",
   "nbconvert_exporter": "python",
   "pygments_lexer": "ipython2",
   "version": "2.7.6"
  }
 },
 "nbformat": 4,
 "nbformat_minor": 5
}
